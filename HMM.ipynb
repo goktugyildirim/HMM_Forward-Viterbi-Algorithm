{
 "cells": [
  {
   "cell_type": "code",
   "execution_count": 5,
   "metadata": {},
   "outputs": [],
   "source": [
    "import numpy as np\n",
    "\n",
    "states = [\"1q\", \"2q\", \"3q\"]\n",
    "initial_prob = [0.9, 0.1, 0 ]\n",
    "A = [[0.5,0.3,0.2],\n",
    "    [0,0.6,0.4],\n",
    "    [0,0,1]]\n",
    "B = [[0.7, 0.3],\n",
    "    [0.4, 0.6],\n",
    "    [0.8, 0.2]]\n",
    "observation_seq = [1,2,1,2]      "
   ]
  },
  {
   "cell_type": "code",
   "execution_count": 6,
   "metadata": {},
   "outputs": [],
   "source": [
    "def emissionProb(state_id, observation):\n",
    "    result = B[state_id][observation-1]\n",
    "    return result"
   ]
  },
  {
   "cell_type": "code",
   "execution_count": 9,
   "metadata": {},
   "outputs": [
    {
     "name": "stdout",
     "output_type": "stream",
     "text": [
      "Forward table:\n",
      " [[0.63       0.0945     0.033075   0.00496125]\n",
      " [0.04       0.1278     0.042012   0.02107782]\n",
      " [0.         0.0284     0.078736   0.02043116]]\n",
      "**************************************************\n",
      "Backtrace Table:\n",
      " [[0. 0. 0. 0.]\n",
      " [0. 0. 1. 1.]\n",
      " [0. 0. 1. 2.]]\n",
      "**************************************************\n",
      "Best Hidden Sequence q1q2q2q2\n",
      "**************************************************\n",
      "Probability of Observation Sequence: 0.04647023\n"
     ]
    }
   ],
   "source": [
    "def HMM(states, initial_prob, B, observation_seq, A):\n",
    "    \n",
    "    table = np.zeros((len(states),len(observation_seq)))\n",
    "    back_trace_table = np.zeros((len(states),len(observation_seq)))\n",
    "    \n",
    "    #Initialization\n",
    "    for i in range(len(states)):\n",
    "        table[i][0] = initial_prob[i]*emissionProb(i,observation_seq[0])\n",
    "    #*******************************************************************\n",
    "    \n",
    "    #Forward Algorithm - Recursion\n",
    "    for observation_id in range(1,len(observation_seq),1):\n",
    "\n",
    "        for state_id in range(len(states)):\n",
    "            \n",
    "            paths = []\n",
    "           \n",
    "            for path_id in range(len(states)):\n",
    "                element1 = table[path_id][observation_id-1]\n",
    "                element2 = A[path_id][state_id]\n",
    "                element3 = emissionProb(state_id, observation_seq[observation_id])\n",
    "                path_element = element1*element2*element3\n",
    "                paths.append(path_element)\n",
    "\n",
    "            table[state_id][observation_id] = sum(paths)\n",
    "            back_trace_table[state_id][observation_id] = np.argmax(paths)\n",
    "\n",
    "    #Viterbi Decoding****************************************************\n",
    "    max_state_id = int(np.argmax(table[:,-1]))     #son sütundaki maximum değere sahip sayının state idsi\n",
    "    state_pointer = int(back_trace_table[max_state_id][-1])\n",
    "    inverse_best_seq = states[max_state_id]\n",
    "\n",
    "    for observation_id in range(len(observation_seq)-2,-1,-1):\n",
    "        inverse_best_seq += states[state_pointer]\n",
    "        state_pointer = int(back_trace_table[state_pointer][observation_id])\n",
    "    \n",
    "    best_sequence = inverse_best_seq[::-1]\n",
    "    #print(\"inverse best seq\", inverse_best_seq)\n",
    "    \n",
    "    prob = [table[i][-1] for i in range(table.shape[0])]\n",
    "    probability_of_observation_seq = sum(prob)\n",
    "    \n",
    "    print(\"Forward table:\\n\",table)\n",
    "    print(\"**************************************************\")\n",
    "    print(\"Backtrace Table:\\n\",back_trace_table)\n",
    "    print(\"**************************************************\")\n",
    "    print(\"Best Hidden Sequence\",best_sequence)\n",
    "    print(\"**************************************************\")\n",
    "    print(\"Probability of Observation Sequence:\",probability_of_observation_seq)\n",
    "    \n",
    "    return probability_of_observation_seq, best_sequence\n",
    "\n",
    "probability_of_observation_seq, best_sequence = HMM(states, initial_prob, B, observation_seq, A)"
   ]
  },
  {
   "cell_type": "code",
   "execution_count": null,
   "metadata": {},
   "outputs": [],
   "source": []
  }
 ],
 "metadata": {
  "kernelspec": {
   "display_name": "Python 3",
   "language": "python",
   "name": "python3"
  },
  "language_info": {
   "codemirror_mode": {
    "name": "ipython",
    "version": 3
   },
   "file_extension": ".py",
   "mimetype": "text/x-python",
   "name": "python",
   "nbconvert_exporter": "python",
   "pygments_lexer": "ipython3",
   "version": "3.7.4"
  }
 },
 "nbformat": 4,
 "nbformat_minor": 4
}
